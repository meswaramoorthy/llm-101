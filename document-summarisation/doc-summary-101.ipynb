{
 "cells": [
  {
   "cell_type": "code",
   "execution_count": 1,
   "id": "59b55799-95a0-4cd6-ba79-03b1948d1865",
   "metadata": {},
   "outputs": [],
   "source": [
    "from openai import AzureOpenAI\n",
    "from openai import OpenAI"
   ]
  },
  {
   "cell_type": "code",
   "execution_count": 2,
   "id": "e74258b1-54c0-4257-ba60-7295f4de135c",
   "metadata": {},
   "outputs": [],
   "source": [
    "# api_version = \"2024-07-18\"\n",
    "api_version = \"2024-02-15-preview\"\n",
    "azure_endpoint=\"https://nshan-m3oer8jc-eastus.openai.azure.com/\"\n",
    "azureClient = AzureOpenAI(api_version=api_version, azure_endpoint=azure_endpoint)\n",
    "# azureClient = AzureOpenAI(azure_endpoint=azure_endpoint)"
   ]
  },
  {
   "cell_type": "code",
   "execution_count": 3,
   "id": "02bd98cc-726e-4115-af64-4c20bf0a365c",
   "metadata": {},
   "outputs": [],
   "source": [
    "q = 'the course has already started, can I still enroll?'\n",
    "response = azureClient.chat.completions.create(\n",
    "    model='gpt-4o',\n",
    "    messages=[{\"role\": \"user\", \"content\": q}]\n",
    ")"
   ]
  },
  {
   "cell_type": "code",
   "execution_count": 4,
   "id": "ab924c50-6c72-4805-bc54-6edab071ce59",
   "metadata": {},
   "outputs": [
    {
     "data": {
      "text/plain": [
       "\"To determine if you can still enroll in a course that has already started, you'll need to check with the specific institution or course provider offering the program. Here are a few general steps you can take:\\n\\n1. **Contact the Institution:** Reach out to the admissions office or the department offering the course to inquire about late enrollment policies. Some institutions may allow late enrollments within a certain timeframe.\\n\\n2. **Check the Course Website:** Some programs have specific guidelines regarding late enrollment, which might be listed on their website.\\n\\n3. **Consider Special Circumstances:** If you have a compelling reason for enrolling late, such as personal or professional obligations, explain your situation to the course provider. They may be more flexible given your circumstances.\\n\\n4. **Online Platforms:** If it's an online course, whether through a university or a platform like Coursera or edX, check their FAQ or help sections regarding late enrollments, as policies can vary.\\n\\n5. **Understand the Consequences:** If you are allowed to enroll late, ensure you understand any potential consequences, such as missed content, assignments, or exams, and how you might be able to catch up.\\n\\nBy following these steps, you'll have a clearer idea of your options and whether it's feasible to join the course after it has started.\""
      ]
     },
     "execution_count": 4,
     "metadata": {},
     "output_type": "execute_result"
    }
   ],
   "source": [
    "response.choices[0].message.content"
   ]
  },
  {
   "cell_type": "code",
   "execution_count": null,
   "id": "c7ada640-c387-45f6-82cf-4e567b4e92f6",
   "metadata": {},
   "outputs": [],
   "source": []
  }
 ],
 "metadata": {
  "kernelspec": {
   "display_name": "Python 3 (ipykernel)",
   "language": "python",
   "name": "python3"
  },
  "language_info": {
   "codemirror_mode": {
    "name": "ipython",
    "version": 3
   },
   "file_extension": ".py",
   "mimetype": "text/x-python",
   "name": "python",
   "nbconvert_exporter": "python",
   "pygments_lexer": "ipython3",
   "version": "3.12.1"
  }
 },
 "nbformat": 4,
 "nbformat_minor": 5
}
