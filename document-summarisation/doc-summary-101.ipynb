{
 "cells": [
  {
   "cell_type": "code",
   "execution_count": 1,
   "id": "59b55799-95a0-4cd6-ba79-03b1948d1865",
   "metadata": {},
   "outputs": [],
   "source": [
    "from openai import AzureOpenAI\n",
    "from openai import OpenAI"
   ]
  },
  {
   "cell_type": "code",
   "execution_count": 2,
   "id": "e74258b1-54c0-4257-ba60-7295f4de135c",
   "metadata": {},
   "outputs": [],
   "source": [
    "# api_version = \"2024-07-18\"\n",
    "api_version = \"2024-02-15-preview\"\n",
    "azure_endpoint=\"https://nshan-m3oer8jc-eastus.openai.azure.com/\"\n",
    "azureClient = AzureOpenAI(api_version=api_version, azure_endpoint=azure_endpoint)\n",
    "# azureClient = AzureOpenAI(azure_endpoint=azure_endpoint)"
   ]
  },
  {
   "cell_type": "code",
   "execution_count": 3,
   "id": "02bd98cc-726e-4115-af64-4c20bf0a365c",
   "metadata": {},
   "outputs": [],
   "source": [
    "q = 'the course has already started, can I still enroll?'\n",
    "response = azureClient.chat.completions.create(\n",
    "    model='gpt-4o',\n",
    "    messages=[{\"role\": \"user\", \"content\": q}]\n",
    ")"
   ]
  },
  {
   "cell_type": "code",
   "execution_count": 4,
   "id": "ab924c50-6c72-4805-bc54-6edab071ce59",
   "metadata": {},
   "outputs": [
    {
     "data": {
      "text/plain": [
       "\"It's possible to enroll in a course after it has started, but this generally depends on the institution, the specific course, and its policies. Here are a few steps you can take to find out:\\n\\n1. **Check the Course Details:** Look at the course’s official page or syllabus to see if there’s any information about enrollment deadlines.\\n\\n2. **Contact the Instructor:** Reach out directly to the course instructor or professor. They may be able to provide exceptions or additional guidance.\\n\\n3. **Contact the Admissions Office:** The admissions or registrar's office can usually give you information about the possibility of late enrollment and any potential penalties or fees.\\n\\n4. **Consider Auditing:** Some institutions allow students to audit courses, which means you can attend and participate without receiving credit. This might be a good option if formal enrollment is no longer possible.\\n\\n5. **Look for Online Options:** If physical attendance isn't possible, there might be an online section or similar course available that allows rolling enrollments.\\n\\nEach situation is unique, so it’s important to communicate directly with the course provider.\""
      ]
     },
     "execution_count": 4,
     "metadata": {},
     "output_type": "execute_result"
    }
   ],
   "source": [
    "response.choices[0].message.content"
   ]
  },
  {
   "cell_type": "code",
   "execution_count": 11,
   "id": "5cb7a162-54d5-4204-8182-4062897d83d8",
   "metadata": {},
   "outputs": [],
   "source": [
    "from langchain.document_loaders import PyPDFLoader\n",
    "\n",
    "# Load the book\n",
    "loader = PyPDFLoader(\"https://services.google.com/fh/files/misc/practitioners_guide_to_mlops_whitepaper.pdf\")\n",
    "pages = loader.load_and_split()"
   ]
  },
  {
   "cell_type": "markdown",
   "id": "f54d2eff-bbf2-4abf-9267-95aaa55bb798",
   "metadata": {},
   "source": [
    "### Pre processing"
   ]
  },
  {
   "cell_type": "markdown",
   "id": "0f98d6fb-cee8-4762-ba79-b569f682193f",
   "metadata": {},
   "source": [
    "Remove non printable char & extra spaces"
   ]
  },
  {
   "cell_type": "code",
   "execution_count": 12,
   "id": "64291ddd-67e8-43dd-bebc-029ead4612e8",
   "metadata": {},
   "outputs": [],
   "source": [
    "# Cut out the open and closing parts\n",
    "pages = pages[6:1308]\n",
    "# Combine the pages, and replace the tabs with spaces\n",
    "text = ' '.join([page.page_content.replace('\\t', ' ') for page in pages])"
   ]
  },
  {
   "cell_type": "code",
   "execution_count": 13,
   "id": "3d72baac-07ab-48b4-9c67-f9440bcc6745",
   "metadata": {},
   "outputs": [
    {
     "data": {
      "text/plain": [
       "'7\\nThe MLOps lifecycle\\nThe MLOps lifecycle encompasses seven integrated and iterative processes, as shown in figure 2.\\nThe processes can consist of the following:\\n• ML development concerns experimentin'"
      ]
     },
     "execution_count": 13,
     "metadata": {},
     "output_type": "execute_result"
    }
   ],
   "source": [
    "text[0:200]"
   ]
  },
  {
   "cell_type": "code",
   "execution_count": 20,
   "id": "cedb2544-92e9-4f4b-a9be-73da30792a21",
   "metadata": {},
   "outputs": [],
   "source": [
    "import re\n",
    "def clean_text(text):\n",
    "   # Remove extra spaces\n",
    "   cleaned_text = re.sub(r' +', ' ', text)\n",
    "   # Remove non-printable characters, optionally preceded by 'David Copperfield'\n",
    "   cleaned_text = re.sub(r'[\\x00-\\x1F]', '', cleaned_text)\n",
    "   # Replace newline characters with spaces\n",
    "   cleaned_text = cleaned_text.replace('\\n', ' ')\n",
    "   # Remove spaces around hyphens\n",
    "   cleaned_text = re.sub(r'\\s*-\\s*', '', cleaned_text)\n",
    "   return cleaned_text"
   ]
  },
  {
   "cell_type": "code",
   "execution_count": 21,
   "id": "6131dae7-2691-4b37-bfe2-3a5ed6eac0f2",
   "metadata": {},
   "outputs": [],
   "source": [
    "clean_text=clean_text(text)"
   ]
  },
  {
   "cell_type": "code",
   "execution_count": 26,
   "id": "0a50712a-ed47-4d67-823b-0c63565b60d1",
   "metadata": {},
   "outputs": [],
   "source": [
    "from langchain_openai import AzureOpenAI"
   ]
  },
  {
   "cell_type": "code",
   "execution_count": 31,
   "id": "10604d0b-79f4-4d56-ad4e-e270e9db5063",
   "metadata": {},
   "outputs": [],
   "source": [
    "llm = AzureOpenAI(\n",
    "    model='gpt-4o'\n",
    ")"
   ]
  },
  {
   "cell_type": "code",
   "execution_count": 32,
   "id": "fbd4f1eb-7e13-4588-9717-4231a304ef87",
   "metadata": {},
   "outputs": [
    {
     "data": {
      "text/plain": [
       "9283"
      ]
     },
     "execution_count": 32,
     "metadata": {},
     "output_type": "execute_result"
    }
   ],
   "source": [
    "llm.get_num_tokens(clean_text)"
   ]
  },
  {
   "cell_type": "markdown",
   "id": "cde19b23-6b87-4a6b-b68e-25f0b9c6c750",
   "metadata": {},
   "source": [
    "Split doc using SemanticChunker"
   ]
  },
  {
   "cell_type": "code",
   "execution_count": 35,
   "id": "dbc58fd3-8c71-4b12-b790-9b258164affd",
   "metadata": {},
   "outputs": [],
   "source": [
    "from langchain_experimental.text_splitter import SemanticChunker\n",
    "from langchain_openai.embeddings import OpenAIEmbeddings\n",
    "text_splitter = SemanticChunker(\n",
    "   OpenAIEmbeddings(), breakpoint_threshold_type=\"interquartile\"\n",
    ")\n",
    "docs = text_splitter.create_documents([clean_text])"
   ]
  },
  {
   "cell_type": "code",
   "execution_count": 37,
   "id": "6727e435-7788-46c3-9d05-f9c1d854db56",
   "metadata": {},
   "outputs": [
    {
     "ename": "AttributeError",
     "evalue": "embeddings",
     "output_type": "error",
     "traceback": [
      "\u001b[0;31m---------------------------------------------------------------------------\u001b[0m",
      "\u001b[0;31mAttributeError\u001b[0m                            Traceback (most recent call last)",
      "Cell \u001b[0;32mIn[37], line 9\u001b[0m\n\u001b[1;32m      4\u001b[0m    response \u001b[38;5;241m=\u001b[39m AzureOpenAI\u001b[38;5;241m.\u001b[39membeddings\u001b[38;5;241m.\u001b[39mcreate(\n\u001b[1;32m      5\u001b[0m        model\u001b[38;5;241m=\u001b[39m\u001b[38;5;124m\"\u001b[39m\u001b[38;5;124mtext-embedding-3-small\u001b[39m\u001b[38;5;124m\"\u001b[39m,\n\u001b[1;32m      6\u001b[0m        \u001b[38;5;28minput\u001b[39m\u001b[38;5;241m=\u001b[39mtext\n\u001b[1;32m      7\u001b[0m    )\n\u001b[1;32m      8\u001b[0m    \u001b[38;5;28;01mreturn\u001b[39;00m response\u001b[38;5;241m.\u001b[39mdata\n\u001b[0;32m----> 9\u001b[0m embeddings\u001b[38;5;241m=\u001b[39m\u001b[43mget_embeddings\u001b[49m\u001b[43m(\u001b[49m\u001b[43m[\u001b[49m\u001b[43mdoc\u001b[49m\u001b[38;5;241;43m.\u001b[39;49m\u001b[43mpage_content\u001b[49m\u001b[43m \u001b[49m\u001b[38;5;28;43;01mfor\u001b[39;49;00m\u001b[43m \u001b[49m\u001b[43mdoc\u001b[49m\u001b[43m \u001b[49m\u001b[38;5;129;43;01min\u001b[39;49;00m\u001b[43m \u001b[49m\u001b[43mdocs\u001b[49m\u001b[43m]\u001b[49m\n\u001b[1;32m     10\u001b[0m \u001b[43m)\u001b[49m\n",
      "Cell \u001b[0;32mIn[37], line 4\u001b[0m, in \u001b[0;36mget_embeddings\u001b[0;34m(text)\u001b[0m\n\u001b[1;32m      3\u001b[0m \u001b[38;5;28;01mdef\u001b[39;00m \u001b[38;5;21mget_embeddings\u001b[39m(text):\n\u001b[0;32m----> 4\u001b[0m    response \u001b[38;5;241m=\u001b[39m \u001b[43mAzureOpenAI\u001b[49m\u001b[38;5;241;43m.\u001b[39;49m\u001b[43membeddings\u001b[49m\u001b[38;5;241m.\u001b[39mcreate(\n\u001b[1;32m      5\u001b[0m        model\u001b[38;5;241m=\u001b[39m\u001b[38;5;124m\"\u001b[39m\u001b[38;5;124mtext-embedding-3-small\u001b[39m\u001b[38;5;124m\"\u001b[39m,\n\u001b[1;32m      6\u001b[0m        \u001b[38;5;28minput\u001b[39m\u001b[38;5;241m=\u001b[39mtext\n\u001b[1;32m      7\u001b[0m    )\n\u001b[1;32m      8\u001b[0m    \u001b[38;5;28;01mreturn\u001b[39;00m response\u001b[38;5;241m.\u001b[39mdata\n",
      "File \u001b[0;32m/usr/local/python/3.12.1/lib/python3.12/site-packages/pydantic/_internal/_model_construction.py:262\u001b[0m, in \u001b[0;36mModelMetaclass.__getattr__\u001b[0;34m(self, item)\u001b[0m\n\u001b[1;32m    260\u001b[0m \u001b[38;5;28;01mif\u001b[39;00m private_attributes \u001b[38;5;129;01mand\u001b[39;00m item \u001b[38;5;129;01min\u001b[39;00m private_attributes:\n\u001b[1;32m    261\u001b[0m     \u001b[38;5;28;01mreturn\u001b[39;00m private_attributes[item]\n\u001b[0;32m--> 262\u001b[0m \u001b[38;5;28;01mraise\u001b[39;00m \u001b[38;5;167;01mAttributeError\u001b[39;00m(item)\n",
      "\u001b[0;31mAttributeError\u001b[0m: embeddings"
     ]
    }
   ],
   "source": [
    "import numpy as np\n",
    "import openai\n",
    "def get_embeddings(text):\n",
    "   response = AzureOpenAI.embeddings.create(\n",
    "       model=\"text-embedding-3-small\",\n",
    "       input=text\n",
    "   )\n",
    "   return response.data\n",
    "embeddings=get_embeddings([doc.page_content for doc in docs]\n",
    ")"
   ]
  },
  {
   "cell_type": "code",
   "execution_count": null,
   "id": "6a315a94-a378-409e-860c-96fff391a7b4",
   "metadata": {},
   "outputs": [],
   "source": []
  }
 ],
 "metadata": {
  "kernelspec": {
   "display_name": "Python 3 (ipykernel)",
   "language": "python",
   "name": "python3"
  },
  "language_info": {
   "codemirror_mode": {
    "name": "ipython",
    "version": 3
   },
   "file_extension": ".py",
   "mimetype": "text/x-python",
   "name": "python",
   "nbconvert_exporter": "python",
   "pygments_lexer": "ipython3",
   "version": "3.12.1"
  }
 },
 "nbformat": 4,
 "nbformat_minor": 5
}
