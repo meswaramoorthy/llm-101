{
 "cells": [
  {
   "cell_type": "code",
   "execution_count": 1,
   "id": "d901ae3d-4e25-4853-a50a-d27d8de54c15",
   "metadata": {},
   "outputs": [],
   "source": [
    "import openai"
   ]
  },
  {
   "cell_type": "code",
   "execution_count": 2,
   "id": "af86e5f5-cbd8-4836-bbb3-8df77b6bd199",
   "metadata": {},
   "outputs": [],
   "source": [
    "from openai import OpenAI"
   ]
  },
  {
   "cell_type": "code",
   "execution_count": 14,
   "id": "0b47bc10-e124-490b-9c86-bee976926ff9",
   "metadata": {},
   "outputs": [],
   "source": [
    "client = OpenAI(api_key='')"
   ]
  },
  {
   "cell_type": "code",
   "execution_count": 15,
   "id": "2cda0ca2-c268-4a68-9368-75b6460a5fa7",
   "metadata": {},
   "outputs": [],
   "source": [
    "response = client.chat.completions.create(model='gpt-4o-mini',\n",
    "                              messages=[{\"role\":\"user\", \"content\":\"is it too late to enroll in the course\"}]\n",
    "                             )"
   ]
  },
  {
   "cell_type": "code",
   "execution_count": 4,
   "id": "4a0480db-b785-4cb9-810a-26c4284211b3",
   "metadata": {},
   "outputs": [],
   "source": [
    "from openai import AzureOpenAI"
   ]
  },
  {
   "cell_type": "code",
   "execution_count": null,
   "id": "7187750c-9342-4954-847b-b77b1e556a14",
   "metadata": {},
   "outputs": [],
   "source": [
    "azureClient = AzureOpenAI(\n",
    "    api_key='',\n",
    "    api_version=\"2024-02-01\",\n",
    "    azure_endpoint =''\n",
    "    \n",
    ")"
   ]
  },
  {
   "cell_type": "code",
   "execution_count": 6,
   "id": "3feaabee-2cfd-4746-becb-1eb88c6d51f7",
   "metadata": {},
   "outputs": [],
   "source": [
    "response = azureClient.chat.completions.create(model='gpt-4o-mini',\n",
    "                              messages=[{\"role\":\"user\", \"content\":\"is it too late to enroll in the course\"}]\n",
    "                             )"
   ]
  },
  {
   "cell_type": "code",
   "execution_count": 7,
   "id": "cacef999-0827-47ed-a6ca-e827b06b83a2",
   "metadata": {},
   "outputs": [
    {
     "data": {
      "text/plain": [
       "ChatCompletion(id='chatcmpl-AYUysuifTKxTZ7AuOBgxR4Ii0hCg7', choices=[Choice(finish_reason='stop', index=0, logprobs=None, message=ChatCompletionMessage(content=\"Whether it's too late to enroll in a course depends on the specific course and its enrollment policies. Many courses have set deadlines for enrollment, while others may allow late registration. I recommend checking the official website or contacting the institution or instructor directly to get the most accurate information regarding enrollment deadlines and options.\", refusal=None, role='assistant', audio=None, function_call=None, tool_calls=None), content_filter_results={'hate': {'filtered': False, 'severity': 'safe'}, 'self_harm': {'filtered': False, 'severity': 'safe'}, 'sexual': {'filtered': False, 'severity': 'safe'}, 'violence': {'filtered': False, 'severity': 'safe'}})], created=1732785606, model='gpt-4o-mini', object='chat.completion', service_tier=None, system_fingerprint='fp_04751d0b65', usage=CompletionUsage(completion_tokens=59, prompt_tokens=16, total_tokens=75, completion_tokens_details=None, prompt_tokens_details=None), prompt_filter_results=[{'prompt_index': 0, 'content_filter_results': {'hate': {'filtered': False, 'severity': 'safe'}, 'jailbreak': {'filtered': False, 'detected': False}, 'self_harm': {'filtered': False, 'severity': 'safe'}, 'sexual': {'filtered': False, 'severity': 'safe'}, 'violence': {'filtered': False, 'severity': 'safe'}}}])"
      ]
     },
     "execution_count": 7,
     "metadata": {},
     "output_type": "execute_result"
    }
   ],
   "source": [
    "response"
   ]
  },
  {
   "cell_type": "code",
   "execution_count": 8,
   "id": "8e1a21f0-8775-4e50-923b-048a7082b0eb",
   "metadata": {},
   "outputs": [
    {
     "data": {
      "text/plain": [
       "ChatCompletionMessage(content=\"Whether it's too late to enroll in a course depends on the specific course and its enrollment policies. Many courses have set deadlines for enrollment, while others may allow late registration. I recommend checking the official website or contacting the institution or instructor directly to get the most accurate information regarding enrollment deadlines and options.\", refusal=None, role='assistant', audio=None, function_call=None, tool_calls=None)"
      ]
     },
     "execution_count": 8,
     "metadata": {},
     "output_type": "execute_result"
    }
   ],
   "source": [
    "response.choices[0].message"
   ]
  },
  {
   "cell_type": "code",
   "execution_count": null,
   "id": "ac6f5448-c58b-4e29-9cf9-cd4d6de02444",
   "metadata": {},
   "outputs": [],
   "source": []
  }
 ],
 "metadata": {
  "kernelspec": {
   "display_name": "Python 3 (ipykernel)",
   "language": "python",
   "name": "python3"
  }
 },
 "nbformat": 4,
 "nbformat_minor": 5
}
