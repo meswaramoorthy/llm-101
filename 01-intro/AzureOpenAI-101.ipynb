{
 "cells": [
  {
   "cell_type": "code",
   "execution_count": 1,
   "id": "365a97f4-8a3a-4d7a-a79a-e8cbe1652d21",
   "metadata": {},
   "outputs": [],
   "source": [
    "import os\n",
    "import requests\n",
    "import base64"
   ]
  },
  {
   "cell_type": "code",
   "execution_count": 2,
   "id": "d298f89d-731d-431d-8fe0-8f5eca333505",
   "metadata": {},
   "outputs": [],
   "source": [
    "headers = {\n",
    "    \"Content-Type\": \"application/json\",\n",
    "    \"api-key\": os.getenv(\"AZURE_OPENAI_API_KEY\"),\n",
    "}"
   ]
  },
  {
   "cell_type": "code",
   "execution_count": 4,
   "id": "c6faea1d-2910-43bb-bf31-403f6198a808",
   "metadata": {},
   "outputs": [],
   "source": [
    "# Payload for the request\n",
    "payload = {\n",
    "  \"messages\": [\n",
    "    {\n",
    "      \"role\": \"system\",\n",
    "      \"content\": [\n",
    "        {\n",
    "          \"type\": \"text\",\n",
    "          \"text\": \"Please provide more context or details about the task or question you have in mind so that I can assist you effectively.\"\n",
    "        }\n",
    "      ]\n",
    "    }\n",
    "  ],\n",
    "  \"temperature\": 0.7,\n",
    "  \"top_p\": 0.95,\n",
    "  \"max_tokens\": 800\n",
    "}"
   ]
  },
  {
   "cell_type": "code",
   "execution_count": 5,
   "id": "0f5e6042-5812-4de2-8a38-6cad208ab73e",
   "metadata": {},
   "outputs": [],
   "source": [
    "ENDPOINT = \"https://gen-ai-training.openai.azure.com/openai/deployments/gpt-4o-mini/chat/completions?api-version=2024-02-15-preview\"\n"
   ]
  },
  {
   "cell_type": "code",
   "execution_count": 6,
   "id": "ee15316c-a4cf-4b62-81a4-eb8211289c42",
   "metadata": {},
   "outputs": [
    {
     "name": "stdout",
     "output_type": "stream",
     "text": [
      "{'choices': [{'content_filter_results': {'hate': {'filtered': False, 'severity': 'safe'}, 'self_harm': {'filtered': False, 'severity': 'safe'}, 'sexual': {'filtered': False, 'severity': 'safe'}, 'violence': {'filtered': False, 'severity': 'safe'}}, 'finish_reason': 'stop', 'index': 0, 'logprobs': None, 'message': {'content': \"It seems like you're referencing my training data timeline. How can I assist you today? If you have a specific question or topic in mind, feel free to share!\", 'role': 'assistant'}}], 'created': 1732805618, 'id': 'chatcmpl-AYaBegT3x8iku5JIbciAEI7egmxdR', 'model': 'gpt-4o-mini', 'object': 'chat.completion', 'prompt_filter_results': [{'prompt_index': 0, 'content_filter_results': {}}], 'system_fingerprint': 'fp_04751d0b65', 'usage': {'completion_tokens': 33, 'prompt_tokens': 30, 'total_tokens': 63}}\n"
     ]
    }
   ],
   "source": [
    "# Send request\n",
    "try:\n",
    "    response = requests.post(ENDPOINT, headers=headers, json=payload)\n",
    "    response.raise_for_status()  # Will raise an HTTPError if the HTTP request returned an unsuccessful status code\n",
    "except requests.RequestException as e:\n",
    "    raise SystemExit(f\"Failed to make the request. Error: {e}\")\n",
    "\n",
    "# Handle the response as needed (e.g., print or process)\n",
    "print(response.json())"
   ]
  },
  {
   "cell_type": "code",
   "execution_count": null,
   "id": "c7169008-af6e-459b-b1b1-f836ca0a47ef",
   "metadata": {},
   "outputs": [],
   "source": []
  }
 ],
 "metadata": {
  "kernelspec": {
   "display_name": "Python 3 (ipykernel)",
   "language": "python",
   "name": "python3"
  },
  "language_info": {
   "codemirror_mode": {
    "name": "ipython",
    "version": 3
   },
   "file_extension": ".py",
   "mimetype": "text/x-python",
   "name": "python",
   "nbconvert_exporter": "python",
   "pygments_lexer": "ipython3",
   "version": "3.12.1"
  }
 },
 "nbformat": 4,
 "nbformat_minor": 5
}
